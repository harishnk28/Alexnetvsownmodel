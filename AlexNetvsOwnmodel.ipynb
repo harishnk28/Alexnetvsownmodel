{
  "nbformat": 4,
  "nbformat_minor": 0,
  "metadata": {
    "colab": {
      "name": "Copy of Copy of Untitled36.ipynb",
      "provenance": [],
      "collapsed_sections": [],
      "authorship_tag": "ABX9TyMek4NHZ4aOPY+l/Yz/EVDv",
      "include_colab_link": true
    },
    "kernelspec": {
      "name": "python3",
      "display_name": "Python 3"
    },
    "language_info": {
      "name": "python"
    },
    "accelerator": "GPU"
  },
  "cells": [
    {
      "cell_type": "markdown",
      "metadata": {
        "id": "view-in-github",
        "colab_type": "text"
      },
      "source": [
        "<a href=\"https://colab.research.google.com/github/harishnk28/Alexnetvsownmodel/blob/main/AlexNetvsOwnmodel.ipynb\" target=\"_parent\"><img src=\"https://colab.research.google.com/assets/colab-badge.svg\" alt=\"Open In Colab\"/></a>"
      ]
    },
    {
      "cell_type": "markdown",
      "metadata": {
        "id": "C2-xHFw0sSnX"
      },
      "source": [
        "# 1. Write a program to implement the AlexNet model (Note : You can use any publically available dataset for testing). While implementing you have to show following things:"
      ]
    },
    {
      "cell_type": "code",
      "metadata": {
        "colab": {
          "base_uri": "https://localhost:8080/"
        },
        "id": "cwwqeUEaKz0h",
        "outputId": "dcac6f8d-559d-4c9f-a8ba-42de0887731a"
      },
      "source": [
        "#Importing library\n",
        "import keras\n",
        "from keras.models import Sequential\n",
        "from keras.layers import Dense, Activation, Dropout, Flatten, Conv2D, MaxPooling2D\n",
        "from keras.layers.normalization import BatchNormalization\n",
        "import numpy as np\n",
        "\n",
        "np.random.seed(1000)\n",
        "\n",
        "#Instantiation\n",
        "AlexNet = Sequential()\n",
        "\n",
        "#1st Convolutional Layer\n",
        "AlexNet.add(Conv2D(filters=96, input_shape=(32,32,3), kernel_size=(11,11), strides=(4,4), padding='same'))\n",
        "AlexNet.add(BatchNormalization())\n",
        "AlexNet.add(Activation('relu'))\n",
        "AlexNet.add(MaxPooling2D(pool_size=(2,2), strides=(2,2), padding='same'))\n",
        "\n",
        "#2nd Convolutional Layer\n",
        "AlexNet.add(Conv2D(filters=256, kernel_size=(5, 5), strides=(1,1), padding='same'))\n",
        "AlexNet.add(BatchNormalization())\n",
        "AlexNet.add(Activation('relu'))\n",
        "AlexNet.add(MaxPooling2D(pool_size=(2,2), strides=(2,2), padding='same'))\n",
        "\n",
        "#3rd Convolutional Layer\n",
        "AlexNet.add(Conv2D(filters=384, kernel_size=(3,3), strides=(1,1), padding='same'))\n",
        "AlexNet.add(BatchNormalization())\n",
        "AlexNet.add(Activation('relu'))\n",
        "\n",
        "#4th Convolutional Layer\n",
        "AlexNet.add(Conv2D(filters=384, kernel_size=(3,3), strides=(1,1), padding='same'))\n",
        "AlexNet.add(BatchNormalization())\n",
        "AlexNet.add(Activation('relu'))\n",
        "\n",
        "#5th Convolutional Layer\n",
        "AlexNet.add(Conv2D(filters=256, kernel_size=(3,3), strides=(1,1), padding='same'))\n",
        "AlexNet.add(BatchNormalization())\n",
        "AlexNet.add(Activation('relu'))\n",
        "AlexNet.add(MaxPooling2D(pool_size=(2,2), strides=(2,2), padding='same'))\n",
        "\n",
        "#Passing it to a Fully Connected layer\n",
        "AlexNet.add(Flatten())\n",
        "# 1st Fully Connected Layer\n",
        "AlexNet.add(Dense(4096, input_shape=(32,32,3,)))\n",
        "AlexNet.add(BatchNormalization())\n",
        "AlexNet.add(Activation('relu'))\n",
        "# Add Dropout to prevent overfitting\n",
        "AlexNet.add(Dropout(0.4))\n",
        "\n",
        "#2nd Fully Connected Layer\n",
        "AlexNet.add(Dense(4096))\n",
        "AlexNet.add(BatchNormalization())\n",
        "AlexNet.add(Activation('relu'))\n",
        "#Add Dropout\n",
        "AlexNet.add(Dropout(0.4))\n",
        "\n",
        "#3rd Fully Connected Layer\n",
        "AlexNet.add(Dense(1000))\n",
        "AlexNet.add(BatchNormalization())\n",
        "AlexNet.add(Activation('relu'))\n",
        "#Add Dropout\n",
        "AlexNet.add(Dropout(0.4))\n",
        "\n",
        "#Output Layer\n",
        "AlexNet.add(Dense(10))\n",
        "AlexNet.add(BatchNormalization())\n",
        "AlexNet.add(Activation('softmax'))\n",
        "\n",
        "#Model Summary\n",
        "AlexNet.summary()"
      ],
      "execution_count": 41,
      "outputs": [
        {
          "output_type": "stream",
          "text": [
            "Model: \"sequential_3\"\n",
            "_________________________________________________________________\n",
            "Layer (type)                 Output Shape              Param #   \n",
            "=================================================================\n",
            "conv2d_12 (Conv2D)           (None, 8, 8, 96)          34944     \n",
            "_________________________________________________________________\n",
            "batch_normalization_18 (Batc (None, 8, 8, 96)          384       \n",
            "_________________________________________________________________\n",
            "activation_19 (Activation)   (None, 8, 8, 96)          0         \n",
            "_________________________________________________________________\n",
            "max_pooling2d_6 (MaxPooling2 (None, 4, 4, 96)          0         \n",
            "_________________________________________________________________\n",
            "conv2d_13 (Conv2D)           (None, 4, 4, 256)         614656    \n",
            "_________________________________________________________________\n",
            "batch_normalization_19 (Batc (None, 4, 4, 256)         1024      \n",
            "_________________________________________________________________\n",
            "activation_20 (Activation)   (None, 4, 4, 256)         0         \n",
            "_________________________________________________________________\n",
            "max_pooling2d_7 (MaxPooling2 (None, 2, 2, 256)         0         \n",
            "_________________________________________________________________\n",
            "conv2d_14 (Conv2D)           (None, 2, 2, 384)         885120    \n",
            "_________________________________________________________________\n",
            "batch_normalization_20 (Batc (None, 2, 2, 384)         1536      \n",
            "_________________________________________________________________\n",
            "activation_21 (Activation)   (None, 2, 2, 384)         0         \n",
            "_________________________________________________________________\n",
            "conv2d_15 (Conv2D)           (None, 2, 2, 384)         1327488   \n",
            "_________________________________________________________________\n",
            "batch_normalization_21 (Batc (None, 2, 2, 384)         1536      \n",
            "_________________________________________________________________\n",
            "activation_22 (Activation)   (None, 2, 2, 384)         0         \n",
            "_________________________________________________________________\n",
            "conv2d_16 (Conv2D)           (None, 2, 2, 256)         884992    \n",
            "_________________________________________________________________\n",
            "batch_normalization_22 (Batc (None, 2, 2, 256)         1024      \n",
            "_________________________________________________________________\n",
            "activation_23 (Activation)   (None, 2, 2, 256)         0         \n",
            "_________________________________________________________________\n",
            "max_pooling2d_8 (MaxPooling2 (None, 1, 1, 256)         0         \n",
            "_________________________________________________________________\n",
            "flatten_3 (Flatten)          (None, 256)               0         \n",
            "_________________________________________________________________\n",
            "dense_11 (Dense)             (None, 4096)              1052672   \n",
            "_________________________________________________________________\n",
            "batch_normalization_23 (Batc (None, 4096)              16384     \n",
            "_________________________________________________________________\n",
            "activation_24 (Activation)   (None, 4096)              0         \n",
            "_________________________________________________________________\n",
            "dropout_6 (Dropout)          (None, 4096)              0         \n",
            "_________________________________________________________________\n",
            "dense_12 (Dense)             (None, 4096)              16781312  \n",
            "_________________________________________________________________\n",
            "batch_normalization_24 (Batc (None, 4096)              16384     \n",
            "_________________________________________________________________\n",
            "activation_25 (Activation)   (None, 4096)              0         \n",
            "_________________________________________________________________\n",
            "dropout_7 (Dropout)          (None, 4096)              0         \n",
            "_________________________________________________________________\n",
            "dense_13 (Dense)             (None, 1000)              4097000   \n",
            "_________________________________________________________________\n",
            "batch_normalization_25 (Batc (None, 1000)              4000      \n",
            "_________________________________________________________________\n",
            "activation_26 (Activation)   (None, 1000)              0         \n",
            "_________________________________________________________________\n",
            "dropout_8 (Dropout)          (None, 1000)              0         \n",
            "_________________________________________________________________\n",
            "dense_14 (Dense)             (None, 10)                10010     \n",
            "_________________________________________________________________\n",
            "batch_normalization_26 (Batc (None, 10)                40        \n",
            "_________________________________________________________________\n",
            "activation_27 (Activation)   (None, 10)                0         \n",
            "=================================================================\n",
            "Total params: 25,730,506\n",
            "Trainable params: 25,709,350\n",
            "Non-trainable params: 21,156\n",
            "_________________________________________________________________\n"
          ],
          "name": "stdout"
        }
      ]
    },
    {
      "cell_type": "code",
      "metadata": {
        "id": "5eCzVvC3M7lb"
      },
      "source": [
        "# Compiling the model\n",
        "AlexNet.compile(loss = keras.losses.categorical_crossentropy, optimizer= 'adam', metrics=['accuracy'])"
      ],
      "execution_count": 42,
      "outputs": []
    },
    {
      "cell_type": "markdown",
      "metadata": {
        "id": "H9VbOCpHsjtf"
      },
      "source": [
        "# Display the first convolution function kernel filter coefficient values"
      ]
    },
    {
      "cell_type": "code",
      "metadata": {
        "colab": {
          "base_uri": "https://localhost:8080/",
          "height": 1000
        },
        "id": "2rKWgS3-nrNi",
        "outputId": "fb9324b9-efdd-44c4-d038-e80723ceaed7"
      },
      "source": [
        "from keras.models import Sequential\n",
        "\n",
        "from keras.layers import Dense, Dropout, Flatten, Conv2D, MaxPooling2D, BatchNormalization\n",
        "\n",
        "import matplotlib.pyplot as plt\n",
        "\n",
        "x1w = AlexNet.layers[0].get_weights()[0][:,:,0,:]\n",
        "print(x1w)\n",
        "for i in range(1,26):\n",
        "\n",
        "      plt.subplot(5,5,i)\n",
        "\n",
        "      plt.imshow(x1w[:,:,i],interpolation=\"nearest\",cmap=\"gray\")\n",
        "\n",
        "plt.show()"
      ],
      "execution_count": 44,
      "outputs": [
        {
          "output_type": "stream",
          "text": [
            "[[[-0.01160643  0.01362201  0.01118555 ... -0.00442451  0.01514127\n",
            "   -0.00722753]\n",
            "  [ 0.00715473 -0.01642123  0.01068707 ... -0.01840068  0.01831171\n",
            "   -0.01107755]\n",
            "  [-0.01084392 -0.02031346 -0.01192883 ... -0.0218694   0.00358693\n",
            "   -0.02087749]\n",
            "  ...\n",
            "  [-0.02148671 -0.00849788 -0.0043692  ...  0.0170253  -0.0088843\n",
            "    0.01822878]\n",
            "  [-0.01203409 -0.01754473  0.0214814  ...  0.01032368  0.01265484\n",
            "   -0.00308908]\n",
            "  [ 0.0096582   0.01822412 -0.01844897 ... -0.0121752  -0.01991683\n",
            "   -0.00578164]]\n",
            "\n",
            " [[-0.00053012 -0.00784166  0.01022322 ...  0.02012219  0.01683983\n",
            "   -0.00302318]\n",
            "  [ 0.00397655  0.01064915  0.00698235 ... -0.0127516   0.00129951\n",
            "   -0.01991779]\n",
            "  [ 0.01178302 -0.00448849  0.00896536 ...  0.01810354 -0.01205853\n",
            "    0.01438497]\n",
            "  ...\n",
            "  [-0.01300122 -0.00859883 -0.01433072 ... -0.01354419 -0.00229368\n",
            "   -0.01845009]\n",
            "  [-0.01128334 -0.00266441 -0.02106933 ...  0.02091808  0.00496999\n",
            "    0.01435952]\n",
            "  [-0.01355862  0.01047266  0.00846023 ... -0.00206871 -0.00706748\n",
            "   -0.01801068]]\n",
            "\n",
            " [[-0.01034554  0.00630553 -0.00750697 ...  0.02142598  0.00532696\n",
            "   -0.00906896]\n",
            "  [ 0.01928773  0.01405126  0.00536204 ...  0.00559025 -0.01682138\n",
            "    0.02034762]\n",
            "  [ 0.00815544 -0.01675963 -0.00135538 ...  0.01886768  0.00405472\n",
            "    0.02112847]\n",
            "  ...\n",
            "  [ 0.01311823  0.01662047  0.01667279 ...  0.00501947 -0.0215888\n",
            "   -0.01740931]\n",
            "  [-0.02119613 -0.01997424 -0.01119734 ... -0.01808799  0.01222651\n",
            "   -0.02025298]\n",
            "  [-0.01896917  0.00183045  0.00104286 ...  0.01767121 -0.01432446\n",
            "   -0.01001225]]\n",
            "\n",
            " ...\n",
            "\n",
            " [[ 0.02080624 -0.00620355  0.02165468 ...  0.01461664  0.02209199\n",
            "   -0.00216495]\n",
            "  [-0.0200239  -0.01943026  0.00466296 ...  0.0217594   0.01538065\n",
            "   -0.00882467]\n",
            "  [ 0.02230222 -0.01462535 -0.01164334 ...  0.01867148 -0.01508323\n",
            "   -0.01623932]\n",
            "  ...\n",
            "  [ 0.01561881  0.00096169  0.01565413 ...  0.00909292  0.02069291\n",
            "    0.01590561]\n",
            "  [ 0.01436616 -0.02209934  0.01172957 ... -0.00142871  0.00494735\n",
            "    0.01042788]\n",
            "  [-0.0180185  -0.00174365  0.0065177  ...  0.0167909  -0.01213548\n",
            "   -0.0065583 ]]\n",
            "\n",
            " [[ 0.00345789  0.01807912  0.00389444 ...  0.02082517  0.00110797\n",
            "   -0.0040484 ]\n",
            "  [-0.01543268  0.0163682  -0.01772314 ...  0.01468945 -0.00089881\n",
            "    0.00260204]\n",
            "  [ 0.00981164 -0.01957574 -0.02118536 ...  0.00714631 -0.02009165\n",
            "   -0.00673644]\n",
            "  ...\n",
            "  [-0.01294242  0.00764773 -0.00139606 ...  0.01805842  0.02084368\n",
            "   -0.00899098]\n",
            "  [-0.00570237  0.00593373 -0.01754493 ...  0.01917784 -0.01786166\n",
            "    0.00663023]\n",
            "  [-0.00555503  0.01184454  0.00774471 ... -0.00040312  0.01279008\n",
            "    0.01446056]]\n",
            "\n",
            " [[ 0.01321399  0.01920604 -0.00076338 ... -0.00342502 -0.01039224\n",
            "   -0.01848218]\n",
            "  [-0.01961065 -0.01669626  0.02000791 ...  0.01679495 -0.02042959\n",
            "   -0.00802987]\n",
            "  [ 0.00252326  0.02166461  0.00417099 ... -0.0172092   0.02097487\n",
            "    0.01635551]\n",
            "  ...\n",
            "  [-0.00560064  0.00251767 -0.00171649 ... -0.00174989 -0.01623043\n",
            "    0.01626865]\n",
            "  [ 0.01646811  0.00492902 -0.01158129 ... -0.02192458 -0.01826011\n",
            "   -0.00143351]\n",
            "  [-0.01933278  0.00381145  0.02233025 ... -0.00567716 -0.01139091\n",
            "    0.01923567]]]\n"
          ],
          "name": "stdout"
        },
        {
          "output_type": "display_data",
          "data": {
            "image/png": "[encoded data removed]",
            "text/plain": [
              "<Figure size 432x288 with 25 Axes>"
            ]
          },
          "metadata": {
            "tags": [],
            "needs_background": "light"
          }
        }
      ]
    },
    {
      "cell_type": "markdown",
      "metadata": {
        "id": "3_vve7C-s0C9"
      },
      "source": [
        "# Display the total images in the database, size of the image, no of classes in the database."
      ]
    },
    {
      "cell_type": "code",
      "metadata": {
        "id": "hjd44YhzLVj9",
        "colab": {
          "base_uri": "https://localhost:8080/"
        },
        "outputId": "9d1988c6-9927-40ab-89b1-ee8d0fc363d2"
      },
      "source": [
        "#Keras library for CIFAR dataset\n",
        "from keras.datasets import cifar10\n",
        "\n",
        "(x_train, y_train),(x_test, y_test)=cifar10.load_data()\n",
        "\n",
        "#Train-validation-test split\n",
        "from sklearn.model_selection import train_test_split\n",
        "x_train,x_val,y_train,y_val=train_test_split(x_train,y_train,test_size=.3)\n",
        "\n",
        "#Dimension of the CIFAR10 dataset\n",
        "print((x_train.shape,y_train.shape))\n",
        "print((x_val.shape,y_val.shape))\n",
        "print((x_test.shape,y_test.shape))\n",
        "\n",
        "#Onehot Encoding the labels.\n",
        "from sklearn.utils.multiclass import unique_labels\n",
        "from keras.utils import to_categorical\n",
        "\n",
        "#Since we have 10 classes we should expect the shape[1] of y_train,y_val and y_test to change from 1 to 10\n",
        "y_train=to_categorical(y_train)\n",
        "y_val=to_categorical(y_val)\n",
        "y_test=to_categorical(y_test)\n",
        "\n",
        "#Verifying the dimension after one hot encoding\n",
        "print((x_train.shape,y_train.shape))\n",
        "print((x_val.shape,y_val.shape))\n",
        "print((x_test.shape,y_test.shape))\n",
        "\n",
        "#Image Data Augmentation\n",
        "from keras.preprocessing.image import ImageDataGenerator\n",
        "\n",
        "train_generator = ImageDataGenerator(rotation_range=2, horizontal_flip=True,zoom_range=.1 )\n",
        "\n",
        "val_generator = ImageDataGenerator(rotation_range=2, horizontal_flip=True,zoom_range=.1)\n",
        "\n",
        "test_generator = ImageDataGenerator(rotation_range=2, horizontal_flip= True,zoom_range=.1)\n",
        "\n",
        "#Fitting the augmentation defined above to the data\n",
        "train_generator.fit(x_train)\n",
        "val_generator.fit(x_val)\n",
        "test_generator.fit(x_test)"
      ],
      "execution_count": 4,
      "outputs": [
        {
          "output_type": "stream",
          "text": [
            "Downloading data from https://www.cs.toronto.edu/~kriz/cifar-10-python.tar.gz\n",
            "170500096/170498071 [==============================] - 11s 0us/step\n",
            "((35000, 32, 32, 3), (35000, 1))\n",
            "((15000, 32, 32, 3), (15000, 1))\n",
            "((10000, 32, 32, 3), (10000, 1))\n",
            "((35000, 32, 32, 3), (35000, 10))\n",
            "((15000, 32, 32, 3), (15000, 10))\n",
            "((10000, 32, 32, 3), (10000, 10))\n"
          ],
          "name": "stdout"
        }
      ]
    },
    {
      "cell_type": "markdown",
      "metadata": {
        "id": "WbFAtDT5tBYN"
      },
      "source": [
        "# Display sample input and output images (at least 10 images)"
      ]
    },
    {
      "cell_type": "code",
      "metadata": {
        "colab": {
          "base_uri": "https://localhost:8080/",
          "height": 485
        },
        "id": "t8EtiuQ8gHO7",
        "outputId": "4e086418-e9e1-4087-8dcd-6d9c168527ab"
      },
      "source": [
        "import numpy as np\n",
        "import cv2\n",
        "import matplotlib.pyplot as plt\n",
        "#Keras library for CIFAR dataset\n",
        "from keras.datasets import cifar10\n",
        "disp=cifar10.load_data()\n",
        "(trainX, trainy), (testX, testy) = cifar10.load_data()\n",
        "print('Train: X=%s, y=%s' % (x_train.shape, y_train.shape))\n",
        "print('Test: X=%s, y=%s' % (x_test.shape, y_test.shape))\n",
        "\n",
        "labels = ['airplane','automobile', 'bird', 'cat', 'deer', 'dog', 'frog', 'horse', 'ship', 'truck']\n",
        "fig, axes = plt.subplots(ncols=5, nrows=2, figsize=(17, 8))\n",
        "index = 0\n",
        "for i in range(2):\n",
        "    for j in range(5):\n",
        "        axes[i,j].set_title(labels[trainy[index][0]])\n",
        "        axes[i,j].imshow(trainX[index])\n",
        "        axes[i,j].get_xaxis().set_visible(False)\n",
        "        axes[i,j].get_yaxis().set_visible(False)\n",
        "        index += 1\n",
        "plt.show()"
      ],
      "execution_count": 5,
      "outputs": [
        {
          "output_type": "stream",
          "text": [
            "Train: X=(35000, 32, 32, 3), y=(35000, 10)\n",
            "Test: X=(10000, 32, 32, 3), y=(10000, 10)\n"
          ],
          "name": "stdout"
        },
        {
          "output_type": "display_data",
          "data": {
            "image/png": "[encoded data removed]",
            "text/plain": [
              "<Figure size 1224x576 with 10 Axes>"
            ]
          },
          "metadata": {
            "tags": [],
            "needs_background": "light"
          }
        }
      ]
    },
    {
      "cell_type": "code",
      "metadata": {
        "id": "z16ltGhdMr3h"
      },
      "source": [
        "#Learning Rate Annealer\n",
        "from keras.callbacks import ReduceLROnPlateau\n",
        "lrr= ReduceLROnPlateau(monitor='val_acc',   factor=.01,   patience=3,  min_lr=1e-5) "
      ],
      "execution_count": 6,
      "outputs": []
    },
    {
      "cell_type": "code",
      "metadata": {
        "id": "LBdYgZ64MDRp"
      },
      "source": [
        "#Defining the parameters\n",
        "batch_size= 100\n",
        "epochs=20\n",
        "learn_rate=.001"
      ],
      "execution_count": 7,
      "outputs": []
    },
    {
      "cell_type": "markdown",
      "metadata": {
        "id": "_Pb_aMf_tPC_"
      },
      "source": [
        "# Display the training accuracy / training error"
      ]
    },
    {
      "cell_type": "code",
      "metadata": {
        "id": "OiHGx-hbMEib",
        "colab": {
          "base_uri": "https://localhost:8080/"
        },
        "outputId": "f902bb3c-97dd-4304-9bdc-31d41ccb76ae"
      },
      "source": [
        "#Training the model\n",
        "AlexNet.fit_generator(train_generator.flow(x_train, y_train, batch_size=batch_size), epochs = epochs, steps_per_epoch = x_train.shape[0]//batch_size, validation_data = val_generator.flow(x_val, y_val, batch_size=batch_size), validation_steps = 250, callbacks = [lrr], verbose=1)"
      ],
      "execution_count": 8,
      "outputs": [
        {
          "output_type": "stream",
          "text": [
            "/usr/local/lib/python3.7/dist-packages/tensorflow/python/keras/engine/training.py:1844: UserWarning: `Model.fit_generator` is deprecated and will be removed in a future version. Please use `Model.fit`, which supports generators.\n",
            "  warnings.warn('`Model.fit_generator` is deprecated and '\n"
          ],
          "name": "stderr"
        },
        {
          "output_type": "stream",
          "text": [
            "Epoch 1/20\n",
            "350/350 [==============================] - ETA: 0s - loss: 1.8273 - accuracy: 0.3410WARNING:tensorflow:Your input ran out of data; interrupting training. Make sure that your dataset or generator can generate at least `steps_per_epoch * epochs` batches (in this case, 250 batches). You may need to use the repeat() function when building your dataset.\n",
            "350/350 [==============================] - 622s 2s/step - loss: 1.8268 - accuracy: 0.3412 - val_loss: 2.1747 - val_accuracy: 0.2749\n",
            "WARNING:tensorflow:Learning rate reduction is conditioned on metric `val_acc` which is not available. Available metrics are: loss,accuracy,val_loss,val_accuracy,lr\n",
            "Epoch 2/20\n",
            "350/350 [==============================] - 601s 2s/step - loss: 1.4454 - accuracy: 0.4862\n",
            "WARNING:tensorflow:Learning rate reduction is conditioned on metric `val_acc` which is not available. Available metrics are: loss,accuracy,lr\n",
            "Epoch 3/20\n",
            "350/350 [==============================] - 587s 2s/step - loss: 1.3093 - accuracy: 0.5425\n",
            "WARNING:tensorflow:Learning rate reduction is conditioned on metric `val_acc` which is not available. Available metrics are: loss,accuracy,lr\n",
            "Epoch 4/20\n",
            "350/350 [==============================] - 586s 2s/step - loss: 1.2098 - accuracy: 0.5777\n",
            "WARNING:tensorflow:Learning rate reduction is conditioned on metric `val_acc` which is not available. Available metrics are: loss,accuracy,lr\n",
            "Epoch 5/20\n",
            "350/350 [==============================] - 589s 2s/step - loss: 1.1391 - accuracy: 0.6071\n",
            "WARNING:tensorflow:Learning rate reduction is conditioned on metric `val_acc` which is not available. Available metrics are: loss,accuracy,lr\n",
            "Epoch 6/20\n",
            "350/350 [==============================] - 587s 2s/step - loss: 1.0641 - accuracy: 0.6349\n",
            "WARNING:tensorflow:Learning rate reduction is conditioned on metric `val_acc` which is not available. Available metrics are: loss,accuracy,lr\n",
            "Epoch 7/20\n",
            "350/350 [==============================] - 591s 2s/step - loss: 1.0321 - accuracy: 0.6474\n",
            "WARNING:tensorflow:Learning rate reduction is conditioned on metric `val_acc` which is not available. Available metrics are: loss,accuracy,lr\n",
            "Epoch 8/20\n",
            "350/350 [==============================] - 594s 2s/step - loss: 0.9746 - accuracy: 0.6659\n",
            "WARNING:tensorflow:Learning rate reduction is conditioned on metric `val_acc` which is not available. Available metrics are: loss,accuracy,lr\n",
            "Epoch 9/20\n",
            "350/350 [==============================] - 600s 2s/step - loss: 0.9077 - accuracy: 0.6908\n",
            "WARNING:tensorflow:Learning rate reduction is conditioned on metric `val_acc` which is not available. Available metrics are: loss,accuracy,lr\n",
            "Epoch 10/20\n",
            "350/350 [==============================] - 611s 2s/step - loss: 0.8741 - accuracy: 0.7008\n",
            "WARNING:tensorflow:Learning rate reduction is conditioned on metric `val_acc` which is not available. Available metrics are: loss,accuracy,lr\n",
            "Epoch 11/20\n",
            "350/350 [==============================] - 609s 2s/step - loss: 0.8488 - accuracy: 0.7119\n",
            "WARNING:tensorflow:Learning rate reduction is conditioned on metric `val_acc` which is not available. Available metrics are: loss,accuracy,lr\n",
            "Epoch 12/20\n",
            "350/350 [==============================] - 611s 2s/step - loss: 0.8001 - accuracy: 0.7299\n",
            "WARNING:tensorflow:Learning rate reduction is conditioned on metric `val_acc` which is not available. Available metrics are: loss,accuracy,lr\n",
            "Epoch 13/20\n",
            "350/350 [==============================] - 611s 2s/step - loss: 0.7734 - accuracy: 0.7373\n",
            "WARNING:tensorflow:Learning rate reduction is conditioned on metric `val_acc` which is not available. Available metrics are: loss,accuracy,lr\n",
            "Epoch 14/20\n",
            "350/350 [==============================] - 608s 2s/step - loss: 0.7397 - accuracy: 0.7470\n",
            "WARNING:tensorflow:Learning rate reduction is conditioned on metric `val_acc` which is not available. Available metrics are: loss,accuracy,lr\n",
            "Epoch 15/20\n",
            "350/350 [==============================] - 606s 2s/step - loss: 0.7039 - accuracy: 0.7597\n",
            "WARNING:tensorflow:Learning rate reduction is conditioned on metric `val_acc` which is not available. Available metrics are: loss,accuracy,lr\n",
            "Epoch 16/20\n",
            "350/350 [==============================] - 598s 2s/step - loss: 0.6715 - accuracy: 0.7756\n",
            "WARNING:tensorflow:Learning rate reduction is conditioned on metric `val_acc` which is not available. Available metrics are: loss,accuracy,lr\n",
            "Epoch 17/20\n",
            "350/350 [==============================] - 605s 2s/step - loss: 0.6580 - accuracy: 0.7756\n",
            "WARNING:tensorflow:Learning rate reduction is conditioned on metric `val_acc` which is not available. Available metrics are: loss,accuracy,lr\n",
            "Epoch 18/20\n",
            "350/350 [==============================] - 605s 2s/step - loss: 0.6178 - accuracy: 0.7930\n",
            "WARNING:tensorflow:Learning rate reduction is conditioned on metric `val_acc` which is not available. Available metrics are: loss,accuracy,lr\n",
            "Epoch 19/20\n",
            "350/350 [==============================] - 606s 2s/step - loss: 0.5995 - accuracy: 0.7980\n",
            "WARNING:tensorflow:Learning rate reduction is conditioned on metric `val_acc` which is not available. Available metrics are: loss,accuracy,lr\n",
            "Epoch 20/20\n",
            "350/350 [==============================] - 593s 2s/step - loss: 0.5638 - accuracy: 0.8105\n",
            "WARNING:tensorflow:Learning rate reduction is conditioned on metric `val_acc` which is not available. Available metrics are: loss,accuracy,lr\n"
          ],
          "name": "stdout"
        },
        {
          "output_type": "execute_result",
          "data": {
            "text/plain": [
              "<tensorflow.python.keras.callbacks.History at 0x7fad22e1df90>"
            ]
          },
          "metadata": {
            "tags": []
          },
          "execution_count": 8
        }
      ]
    },
    {
      "cell_type": "markdown",
      "metadata": {
        "id": "wLJv_yDmurc8"
      },
      "source": [
        "# Filter after fit with train values in Layer 1"
      ]
    },
    {
      "cell_type": "code",
      "metadata": {
        "id": "rSIKzXO8ZbW5",
        "colab": {
          "base_uri": "https://localhost:8080/"
        },
        "outputId": "a3320f2d-2a6c-494b-84c7-5db0dccd342c"
      },
      "source": [
        "filters, biases = AlexNet.layers[0].get_weights()\n",
        "# normalize filter values to 0-1 so we can visualize them \n",
        "f_min, f_max = filters.min(), filters.max() \n",
        "filters = (filters - f_min) / (f_max - f_min)\n",
        "print(filters)"
      ],
      "execution_count": 9,
      "outputs": [
        {
          "output_type": "stream",
          "text": [
            "[[[[0.5193868  0.56952566 0.59057134 ... 0.6477307  0.6263468\n",
            "    0.59495974]\n",
            "   [0.55220056 0.57242584 0.5748958  ... 0.5830555  0.6334262\n",
            "    0.54408777]\n",
            "   [0.46666142 0.62003094 0.49221376 ... 0.5101153  0.7756139\n",
            "    0.5641855 ]]\n",
            "\n",
            "  [[0.50026494 0.5703607  0.58881307 ... 0.691434   0.6527491\n",
            "    0.59551066]\n",
            "   [0.55052084 0.5138407  0.5995545  ... 0.6404037  0.67045546\n",
            "    0.5886657 ]\n",
            "   [0.46182135 0.51479083 0.51825917 ... 0.5380219  0.70894676\n",
            "    0.5751574 ]]\n",
            "\n",
            "  [[0.577331   0.5791443  0.5972899  ... 0.69240147 0.64374214\n",
            "    0.5591179 ]\n",
            "   [0.5546605  0.52776355 0.57910067 ... 0.5960676  0.6256832\n",
            "    0.54690635]\n",
            "   [0.5234891  0.5609988  0.5603266  ... 0.58039695 0.6252591\n",
            "    0.59315366]]\n",
            "\n",
            "  ...\n",
            "\n",
            "  [[0.7400298  0.5494917  0.67404115 ... 0.5531539  0.55680287\n",
            "    0.3637226 ]\n",
            "   [0.63537914 0.6497312  0.5665257  ... 0.5513861  0.6685528\n",
            "    0.3985518 ]\n",
            "   [0.59352964 0.6210469  0.4746836  ... 0.55764073 0.54191935\n",
            "    0.47741142]]\n",
            "\n",
            "  [[0.66250724 0.54530805 0.7161895  ... 0.55629724 0.5725771\n",
            "    0.5674054 ]\n",
            "   [0.61631966 0.68218845 0.6118176  ... 0.5516596  0.6913939\n",
            "    0.58131564]\n",
            "   [0.5924706  0.5822587  0.4877662  ... 0.5221185  0.6006521\n",
            "    0.5739708 ]]\n",
            "\n",
            "  [[0.6325117  0.501535   0.64930826 ... 0.5619841  0.5714852\n",
            "    0.6024978 ]\n",
            "   [0.59068006 0.67032546 0.5678048  ... 0.51792866 0.6287194\n",
            "    0.6640892 ]\n",
            "   [0.5607607  0.5886795  0.48614743 ... 0.49695995 0.6576741\n",
            "    0.66325694]]]\n",
            "\n",
            "\n",
            " [[[0.46053782 0.5918918  0.5982138  ... 0.5280103  0.6207154\n",
            "    0.59686136]\n",
            "   [0.49981403 0.51905423 0.5705102  ... 0.539797   0.6497236\n",
            "    0.5566247 ]\n",
            "   [0.51081777 0.6103529  0.44412494 ... 0.5292136  0.70380527\n",
            "    0.5853433 ]]\n",
            "\n",
            "  [[0.48527947 0.598874   0.6200299  ... 0.5409356  0.6592507\n",
            "    0.5672601 ]\n",
            "   [0.56564003 0.51117694 0.5232246  ... 0.5066045  0.57147706\n",
            "    0.55070823]\n",
            "   [0.49857658 0.5329303  0.49668878 ... 0.5140632  0.5982756\n",
            "    0.54977345]]\n",
            "\n",
            "  [[0.54159415 0.60189766 0.579589   ... 0.5392585  0.63732105\n",
            "    0.56832206]\n",
            "   [0.56145495 0.5285591  0.5741019  ... 0.48217398 0.580935\n",
            "    0.54791564]\n",
            "   [0.5373427  0.54741585 0.54033005 ... 0.5272843  0.59533376\n",
            "    0.56633973]]\n",
            "\n",
            "  ...\n",
            "\n",
            "  [[0.70550543 0.53792053 0.6850736  ... 0.51398593 0.5772202\n",
            "    0.36650804]\n",
            "   [0.6240028  0.6866157  0.57379013 ... 0.4993767  0.65062785\n",
            "    0.38829422]\n",
            "   [0.60112405 0.61483085 0.46346053 ... 0.52851784 0.52544934\n",
            "    0.51008815]]\n",
            "\n",
            "  [[0.6796589  0.52758306 0.7458531  ... 0.5402025  0.54498434\n",
            "    0.5697102 ]\n",
            "   [0.59492445 0.6209003  0.558867   ... 0.542468   0.63626957\n",
            "    0.5979625 ]\n",
            "   [0.5223258  0.6081137  0.45736244 ... 0.5454256  0.60956514\n",
            "    0.63790363]]\n",
            "\n",
            "  [[0.61102676 0.52558154 0.6900502  ... 0.5406029  0.56416166\n",
            "    0.6665961 ]\n",
            "   [0.55241126 0.59747535 0.55789125 ... 0.55308855 0.64682984\n",
            "    0.6901057 ]\n",
            "   [0.52552325 0.55569667 0.44911397 ... 0.5139771  0.65868443\n",
            "    0.68475616]]]\n",
            "\n",
            "\n",
            " [[[0.4852702  0.61466485 0.664803   ... 0.49408823 0.59268147\n",
            "    0.6014322 ]\n",
            "   [0.53510106 0.54018766 0.5636286  ... 0.58464766 0.5498773\n",
            "    0.594713  ]\n",
            "   [0.52637994 0.6107261  0.4049966  ... 0.6411269  0.62609065\n",
            "    0.63334906]]\n",
            "\n",
            "  [[0.4708892  0.5577687  0.6424278  ... 0.4745406  0.5459135\n",
            "    0.4954566 ]\n",
            "   [0.53737104 0.4480348  0.57190084 ... 0.5644339  0.5422592\n",
            "    0.57589096]\n",
            "   [0.5215004  0.552061   0.4644492  ... 0.66659737 0.5614718\n",
            "    0.559304  ]]\n",
            "\n",
            "  [[0.5077436  0.5874783  0.58957344 ... 0.48082718 0.6213708\n",
            "    0.5392438 ]\n",
            "   [0.60693455 0.4637615  0.5304158  ... 0.53976774 0.5738927\n",
            "    0.59625834]\n",
            "   [0.58484274 0.53360975 0.56255436 ... 0.58347607 0.54335773\n",
            "    0.5569358 ]]\n",
            "\n",
            "  ...\n",
            "\n",
            "  [[0.6809044  0.58229005 0.6487926  ... 0.54955065 0.50329995\n",
            "    0.31375915]\n",
            "   [0.6310953  0.61547804 0.52614135 ... 0.59026    0.626842\n",
            "    0.31881392]\n",
            "   [0.60096    0.55950886 0.48329332 ... 0.6373612  0.5628083\n",
            "    0.4134035 ]]\n",
            "\n",
            "  [[0.7426114  0.5491284  0.6990168  ... 0.5978024  0.5304463\n",
            "    0.52063334]\n",
            "   [0.6207709  0.6307319  0.5400204  ... 0.65244037 0.65549994\n",
            "    0.5747768 ]\n",
            "   [0.5913335  0.5343514  0.43424946 ... 0.6682974  0.6012223\n",
            "    0.5971714 ]]\n",
            "\n",
            "  [[0.68924445 0.49096975 0.8194254  ... 0.61826926 0.5462577\n",
            "    0.7032377 ]\n",
            "   [0.5869594  0.58291924 0.6154091  ... 0.65323436 0.6415721\n",
            "    0.7317276 ]\n",
            "   [0.57964873 0.5435666  0.4842283  ... 0.68680006 0.6034896\n",
            "    0.6961743 ]]]\n",
            "\n",
            "\n",
            " ...\n",
            "\n",
            "\n",
            " [[[0.4822396  0.5560554  0.6262863  ... 0.68913305 0.5454605\n",
            "    0.5742047 ]\n",
            "   [0.62468493 0.71127677 0.5914756  ... 0.5758439  0.5294006\n",
            "    0.59005404]\n",
            "   [0.6488163  0.7467317  0.45500326 ... 0.59105545 0.42090958\n",
            "    0.5864617 ]]\n",
            "\n",
            "  [[0.50032246 0.52840185 0.63342685 ... 0.82597655 0.43491578\n",
            "    0.4989178 ]\n",
            "   [0.6047846  0.58221644 0.5483004  ... 0.6895304  0.40237707\n",
            "    0.49464646]\n",
            "   [0.65805984 0.6902378  0.44214734 ... 0.62869793 0.2584696\n",
            "    0.55369735]]\n",
            "\n",
            "  [[0.48701578 0.40250668 0.58754236 ... 0.8763238  0.49901885\n",
            "    0.5698127 ]\n",
            "   [0.6274581  0.47565252 0.56403595 ... 0.7457369  0.5299341\n",
            "    0.5857118 ]\n",
            "   [0.6947199  0.5376029  0.523169   ... 0.5856347  0.42236677\n",
            "    0.55813736]]\n",
            "\n",
            "  ...\n",
            "\n",
            "  [[0.65082604 0.74850607 0.63570786 ... 0.7779248  0.46549225\n",
            "    0.4938231 ]\n",
            "   [0.6552554  0.660571   0.5886457  ... 0.7050931  0.5627748\n",
            "    0.48137483]\n",
            "   [0.63896245 0.6114873  0.56993663 ... 0.508538   0.59577113\n",
            "    0.5505559 ]]\n",
            "\n",
            "  [[0.65450037 0.61949635 0.73305774 ... 0.6424781  0.48443347\n",
            "    0.47897524]\n",
            "   [0.5796088  0.55963355 0.6074973  ... 0.6454057  0.5609423\n",
            "    0.43441164]\n",
            "   [0.55447876 0.48637375 0.5013439  ... 0.49016315 0.6062637\n",
            "    0.459671  ]]\n",
            "\n",
            "  [[0.58799326 0.51210487 0.71421576 ... 0.5924108  0.42325908\n",
            "    0.6291862 ]\n",
            "   [0.5431591  0.4549981  0.59008163 ... 0.55261177 0.48651308\n",
            "    0.63367385]\n",
            "   [0.46962965 0.44773164 0.45322368 ... 0.48448747 0.5959463\n",
            "    0.6492005 ]]]\n",
            "\n",
            "\n",
            " [[[0.5029902  0.52901995 0.65755945 ... 0.6003544  0.49194205\n",
            "    0.55560905]\n",
            "   [0.5712285  0.655694   0.6118567  ... 0.5337135  0.44935197\n",
            "    0.5537438 ]\n",
            "   [0.5923849  0.67268074 0.50343657 ... 0.49802172 0.41295862\n",
            "    0.56994295]]\n",
            "\n",
            "  [[0.53585756 0.44711962 0.62983125 ... 0.7416387  0.4436231\n",
            "    0.5402895 ]\n",
            "   [0.6482915  0.5759252  0.5964134  ... 0.5695967  0.4054467\n",
            "    0.52644664]\n",
            "   [0.6208     0.6339182  0.49343047 ... 0.5234316  0.35142756\n",
            "    0.5192498 ]]\n",
            "\n",
            "  [[0.49715686 0.42502365 0.6283775  ... 0.736914   0.5603729\n",
            "    0.6076214 ]\n",
            "   [0.5918753  0.5196807  0.5713182  ... 0.5747666  0.59996265\n",
            "    0.60541904]\n",
            "   [0.5906421  0.5781318  0.5688093  ... 0.46916625 0.5804939\n",
            "    0.5605433 ]]\n",
            "\n",
            "  ...\n",
            "\n",
            "  [[0.65488476 0.722328   0.6430839  ... 0.7489481  0.4826142\n",
            "    0.53731257]\n",
            "   [0.6607523  0.5914163  0.58258504 ... 0.65092003 0.5862303\n",
            "    0.5620383 ]\n",
            "   [0.6234616  0.6242661  0.5142354  ... 0.51491094 0.69381106\n",
            "    0.51084936]]\n",
            "\n",
            "  [[0.65933937 0.61169416 0.6359783  ... 0.6642845  0.5112186\n",
            "    0.55391294]\n",
            "   [0.60992634 0.5548968  0.5627082  ... 0.5740339  0.56358504\n",
            "    0.49079287]\n",
            "   [0.5444873  0.52115536 0.45255822 ... 0.48036027 0.6472589\n",
            "    0.47048447]]\n",
            "\n",
            "  [[0.5985035  0.53580076 0.66305196 ... 0.62958217 0.43430212\n",
            "    0.5677161 ]\n",
            "   [0.519817   0.44141585 0.5719632  ... 0.5216923  0.49864632\n",
            "    0.57621044]\n",
            "   [0.44553083 0.39693293 0.44456762 ... 0.5094214  0.62247026\n",
            "    0.57949066]]]\n",
            "\n",
            "\n",
            " [[[0.4228248  0.5420501  0.69471514 ... 0.5059577  0.44806185\n",
            "    0.55674106]\n",
            "   [0.47074625 0.7049785  0.59842265 ... 0.49533948 0.4486046\n",
            "    0.5482899 ]\n",
            "   [0.46517602 0.7585593  0.48083284 ... 0.4909325  0.43287963\n",
            "    0.55672884]]\n",
            "\n",
            "  [[0.4994888  0.5451927  0.6637451  ... 0.6154104  0.46727526\n",
            "    0.58422154]\n",
            "   [0.49957085 0.6375043  0.590963   ... 0.5067425  0.40605792\n",
            "    0.52711964]\n",
            "   [0.4889674  0.6731245  0.51054585 ... 0.536955   0.43222913\n",
            "    0.5555272 ]]\n",
            "\n",
            "  [[0.499204   0.48152843 0.65554416 ... 0.6101419  0.5903026\n",
            "    0.6411079 ]\n",
            "   [0.5022871  0.5141665  0.6037368  ... 0.45295602 0.57219577\n",
            "    0.62005085]\n",
            "   [0.5130275  0.5757474  0.5642197  ... 0.41815794 0.67680115\n",
            "    0.5691072 ]]\n",
            "\n",
            "  ...\n",
            "\n",
            "  [[0.7185216  0.7305327  0.5872921  ... 0.61593175 0.43727505\n",
            "    0.5848739 ]\n",
            "   [0.6395226  0.6284049  0.5267256  ... 0.51999027 0.47940838\n",
            "    0.5882358 ]\n",
            "   [0.5643201  0.5969227  0.4411894  ... 0.48590893 0.61466354\n",
            "    0.57110363]]\n",
            "\n",
            "  [[0.6616109  0.6790746  0.62195504 ... 0.5467516  0.43545333\n",
            "    0.55385303]\n",
            "   [0.6135312  0.59217227 0.57885474 ... 0.5193265  0.4899944\n",
            "    0.5148688 ]\n",
            "   [0.55222446 0.5171815  0.3917492  ... 0.4840256  0.63293993\n",
            "    0.51605207]]\n",
            "\n",
            "  [[0.630277   0.5931275  0.6559846  ... 0.5286418  0.4080568\n",
            "    0.55601364]\n",
            "   [0.5225989  0.5149964  0.5960166  ... 0.4757798  0.4436959\n",
            "    0.54373986]\n",
            "   [0.4559978  0.5015937  0.41532686 ... 0.4795192  0.59098744\n",
            "    0.50782824]]]]\n"
          ],
          "name": "stdout"
        }
      ]
    },
    {
      "cell_type": "code",
      "metadata": {
        "id": "8RjnspQdaUON",
        "colab": {
          "base_uri": "https://localhost:8080/",
          "height": 252
        },
        "outputId": "b2411ffe-890b-45c0-c428-a5588698eaee"
      },
      "source": [
        "from matplotlib import pyplot\n",
        "#plot first few filters \n",
        "n_filters, ix = 6, 1 \n",
        "for i in range(n_filters):\n",
        "\n",
        "  # get the filter\n",
        "  f = filters[:, :, :, i]\n",
        "  # plot each channel separately\n",
        "  for j in range(3):\n",
        "# specify subplot and turn of axis \n",
        "    ax = pyplot.subplot(n_filters, 3, ix) \n",
        "    ax.set_xticks([]) \n",
        "    ax.set_yticks([])\n",
        "# plot filter channel in grayscale \n",
        "    pyplot.imshow(f[:, :, j], cmap='gray') \n",
        "    ix += 1 \n",
        "# show the figure \n",
        "pyplot.show()"
      ],
      "execution_count": 10,
      "outputs": [
        {
          "output_type": "display_data",
          "data": {
            "image/png": "[encoded data removed]",
            "text/plain": [
              "<Figure size 432x288 with 18 Axes>"
            ]
          },
          "metadata": {
            "tags": []
          }
        }
      ]
    },
    {
      "cell_type": "markdown",
      "metadata": {
        "id": "QiY9mmOeteVV"
      },
      "source": [
        "# Display the testing accuracy"
      ]
    },
    {
      "cell_type": "code",
      "metadata": {
        "colab": {
          "base_uri": "https://localhost:8080/"
        },
        "id": "pE-9L2A_kYOP",
        "outputId": "8580f031-f2d8-44f9-e228-cb4a35685065"
      },
      "source": [
        "#Making prediction\n",
        "from mlxtend.plotting import plot_confusion_matrix\n",
        "y_pred=AlexNet.predict_classes(x_test)\n",
        "y_true=np.argmax(y_test,axis=1)\n",
        "#Plotting the confusion matrix\n",
        "from sklearn.metrics import confusion_matrix\n",
        "confusion_mtx=confusion_matrix(y_true,y_pred)\n",
        "print(confusion_mtx)\n",
        "from sklearn.metrics import accuracy_score\n",
        "acc_score = accuracy_score(y_true, y_pred)\n",
        "print('Accuracy Score = ', acc_score)"
      ],
      "execution_count": 11,
      "outputs": [
        {
          "output_type": "stream",
          "text": [
            "/usr/local/lib/python3.7/dist-packages/tensorflow/python/keras/engine/sequential.py:450: UserWarning: `model.predict_classes()` is deprecated and will be removed after 2021-01-01. Please use instead:* `np.argmax(model.predict(x), axis=-1)`,   if your model does multi-class classification   (e.g. if it uses a `softmax` last-layer activation).* `(model.predict(x) > 0.5).astype(\"int32\")`,   if your model does binary classification   (e.g. if it uses a `sigmoid` last-layer activation).\n",
            "  warnings.warn('`model.predict_classes()` is deprecated and '\n"
          ],
          "name": "stderr"
        },
        {
          "output_type": "stream",
          "text": [
            "[[959   8  18   0   0   0   0   0   1  14]\n",
            " [152 774   6   0   0   0   0   0   2  66]\n",
            " [296  11 641   0   2   0   3   7   0  40]\n",
            " [513  53 229  10   4   0  28  20   7 136]\n",
            " [465   5 285   0 137   0  20  62   0  26]\n",
            " [258  55 411   3   8   6  20  60  14 165]\n",
            " [177  34 266   0   1   0 445   2   5  70]\n",
            " [302   6  81   0   2   0   0 494   1 114]\n",
            " [605  79   9   0   0   0   0   0 267  40]\n",
            " [246 120  10   0   0   0   0   0   5 619]]\n",
            "Accuracy Score =  0.4352\n"
          ],
          "name": "stdout"
        }
      ]
    },
    {
      "cell_type": "markdown",
      "metadata": {
        "id": "PYDy3mxUtwAO"
      },
      "source": [
        "# 2. Write a program to implement the new CNN model. The model should contains following things : (Note : use any grayscale dataset with the 10 classes)"
      ]
    },
    {
      "cell_type": "code",
      "metadata": {
        "colab": {
          "base_uri": "https://localhost:8080/"
        },
        "id": "RJzHvdlnAW_B",
        "outputId": "c9be60b1-bfc7-4c99-be51-94b83fc8c1b0"
      },
      "source": [
        "X_train = np.array([cv2.cvtColor(image, cv2.COLOR_BGR2GRAY) for image in trainX])\n",
        "X_test = np.array([cv2.cvtColor(image, cv2.COLOR_BGR2GRAY) for image in testX])\n",
        "print(X_train.shape)\n",
        "print(X_test.shape)"
      ],
      "execution_count": 46,
      "outputs": [
        {
          "output_type": "stream",
          "text": [
            "(50000, 32, 32)\n",
            "(10000, 32, 32)\n"
          ],
          "name": "stdout"
        }
      ]
    },
    {
      "cell_type": "code",
      "metadata": {
        "colab": {
          "base_uri": "https://localhost:8080/",
          "height": 451
        },
        "id": "ogIppLQWDrHH",
        "outputId": "f3039cfe-e71e-48a2-cb79-8c9bb7ac0321"
      },
      "source": [
        "fig, axes = plt.subplots(ncols=5, nrows=2, figsize=(17, 8))\n",
        "index = 0\n",
        "for i in range(2):\n",
        "    for j in range(5):\n",
        "        axes[i,j].set_title(labels[trainy[index][0]])\n",
        "        axes[i,j].imshow(X_train[index], cmap='gray')\n",
        "        axes[i,j].get_xaxis().set_visible(False)\n",
        "        axes[i,j].get_yaxis().set_visible(False)\n",
        "        index += 1\n",
        "plt.show()"
      ],
      "execution_count": 13,
      "outputs": [
        {
          "output_type": "display_data",
          "data": {
            "image/png": "[encoded data removed]",
            "text/plain": [
              "<Figure size 1224x576 with 10 Axes>"
            ]
          },
          "metadata": {
            "tags": [],
            "needs_background": "light"
          }
        }
      ]
    },
    {
      "cell_type": "code",
      "metadata": {
        "id": "BJSljil5Fxp2"
      },
      "source": [
        "X_train  = X_train/255\n",
        "X_test  = X_test/255"
      ],
      "execution_count": 14,
      "outputs": []
    },
    {
      "cell_type": "code",
      "metadata": {
        "colab": {
          "base_uri": "https://localhost:8080/"
        },
        "id": "-A9vbaC4FzPD",
        "outputId": "4e3c8e7b-f022-48a9-c488-5ef0fcdba5de"
      },
      "source": [
        "from sklearn.preprocessing import LabelEncoder, OneHotEncoder\n",
        "one_hot_encoder = OneHotEncoder(sparse=False)\n",
        "one_hot_encoder.fit(trainy)\n",
        "y_train = one_hot_encoder.transform(trainy)\n",
        "y_test = one_hot_encoder.transform(testy)\n",
        "y_train = one_hot_encoder.transform(trainy)\n",
        "y_test = one_hot_encoder.transform(testy)\n",
        "print(y_train.shape)\n",
        "print(y_test.shape)"
      ],
      "execution_count": 45,
      "outputs": [
        {
          "output_type": "stream",
          "text": [
            "(50000, 10)\n",
            "(10000, 10)\n"
          ],
          "name": "stdout"
        }
      ]
    },
    {
      "cell_type": "code",
      "metadata": {
        "id": "oVkm3tN5H7va"
      },
      "source": [
        "X_train = X_train.reshape(X_train.shape[0], X_train.shape[1], X_train.shape[2], 1)\n",
        "X_test = X_test.reshape(X_test.shape[0], X_test.shape[1], X_test.shape[2], 1)"
      ],
      "execution_count": 16,
      "outputs": []
    },
    {
      "cell_type": "code",
      "metadata": {
        "colab": {
          "base_uri": "https://localhost:8080/"
        },
        "id": "sTEk1UoXH-Wh",
        "outputId": "6fe04f85-5caf-4477-c11c-fed131e8d65a"
      },
      "source": [
        "input_shape = (X_train.shape[1], X_train.shape[2], 1)\n",
        "print(input_shape)"
      ],
      "execution_count": 17,
      "outputs": [
        {
          "output_type": "stream",
          "text": [
            "(32, 32, 1)\n"
          ],
          "name": "stdout"
        }
      ]
    },
    {
      "cell_type": "code",
      "metadata": {
        "id": "9F4LQu88lgHA"
      },
      "source": [
        "#Importing library\n",
        "import keras\n",
        "from keras.models import Sequential\n",
        "from keras.layers import Dense, Activation, Dropout, Flatten, Conv2D, MaxPooling2D,AveragePooling2D\n",
        "from keras.layers.normalization import BatchNormalization\n",
        "import numpy as np"
      ],
      "execution_count": 18,
      "outputs": []
    },
    {
      "cell_type": "code",
      "metadata": {
        "id": "azJK-TFmp0OG"
      },
      "source": [
        "#Defining the parameters\n",
        "batch_size= 100\n",
        "epochs=10\n",
        "learn_rate=.001"
      ],
      "execution_count": 19,
      "outputs": []
    },
    {
      "cell_type": "code",
      "metadata": {
        "id": "d5xeSYDnpqg0",
        "colab": {
          "base_uri": "https://localhost:8080/"
        },
        "outputId": "79ad4851-1835-4fd5-adfd-ea4597d651c7"
      },
      "source": [
        "model = Sequential()\n",
        "model.add(Conv2D(6,(5,5),strides=1,input_shape=input_shape))\n",
        "model.add(Activation('relu'))\n",
        "model.add(AveragePooling2D(pool_size=(5, 5), strides=(2,2), padding='same'))\n",
        "model.add(Conv2D(6, (5, 5), activation ='relu'))\n",
        "model.add(AveragePooling2D(pool_size=(5, 5), strides=(2,2), padding='same'))\n",
        "model.add(Flatten())\n",
        "model.add(Dense(120, activation ='relu'))\n",
        "model.add(Dense(84, activation ='relu'))\n",
        "model.add(Dense(10, activation ='softmax'))\n",
        "# training the model\n",
        "model.compile(loss = keras.losses.categorical_crossentropy,\n",
        "              optimizer = keras.optimizers.SGD(lr = 0.01),\n",
        "              metrics =['accuracy'])\n",
        "model.summary()\n"
      ],
      "execution_count": 20,
      "outputs": [
        {
          "output_type": "stream",
          "text": [
            "Model: \"sequential_2\"\n",
            "_________________________________________________________________\n",
            "Layer (type)                 Output Shape              Param #   \n",
            "=================================================================\n",
            "conv2d_10 (Conv2D)           (None, 28, 28, 6)         156       \n",
            "_________________________________________________________________\n",
            "activation_18 (Activation)   (None, 28, 28, 6)         0         \n",
            "_________________________________________________________________\n",
            "average_pooling2d (AveragePo (None, 14, 14, 6)         0         \n",
            "_________________________________________________________________\n",
            "conv2d_11 (Conv2D)           (None, 10, 10, 6)         906       \n",
            "_________________________________________________________________\n",
            "average_pooling2d_1 (Average (None, 5, 5, 6)           0         \n",
            "_________________________________________________________________\n",
            "flatten_2 (Flatten)          (None, 150)               0         \n",
            "_________________________________________________________________\n",
            "dense_8 (Dense)              (None, 120)               18120     \n",
            "_________________________________________________________________\n",
            "dense_9 (Dense)              (None, 84)                10164     \n",
            "_________________________________________________________________\n",
            "dense_10 (Dense)             (None, 10)                850       \n",
            "=================================================================\n",
            "Total params: 30,196\n",
            "Trainable params: 30,196\n",
            "Non-trainable params: 0\n",
            "_________________________________________________________________\n"
          ],
          "name": "stdout"
        }
      ]
    },
    {
      "cell_type": "code",
      "metadata": {
        "id": "hjpGCry_ly_s"
      },
      "source": [
        "model.compile(loss='categorical_crossentropy', \n",
        "     optimizer='adam',\n",
        "     metrics=['acc'])"
      ],
      "execution_count": 21,
      "outputs": []
    },
    {
      "cell_type": "code",
      "metadata": {
        "id": "MCHWwvLaDNWe"
      },
      "source": [
        "from keras.callbacks import EarlyStopping\n",
        "es = EarlyStopping(monitor='val_loss', mode='min', verbose=1, patience=3)"
      ],
      "execution_count": 22,
      "outputs": []
    },
    {
      "cell_type": "code",
      "metadata": {
        "id": "vQICoWDIpPHL",
        "colab": {
          "base_uri": "https://localhost:8080/"
        },
        "outputId": "04d6cbbf-a82d-4c46-8162-b1012a92439f"
      },
      "source": [
        "history = model.fit(X_train, y_train, epochs=20, batch_size=32, validation_data=(X_test, y_test), callbacks=[es])"
      ],
      "execution_count": 23,
      "outputs": [
        {
          "output_type": "stream",
          "text": [
            "Epoch 1/20\n",
            "1563/1563 [==============================] - 34s 21ms/step - loss: 2.0389 - acc: 0.2494 - val_loss: 1.6668 - val_acc: 0.3996\n",
            "Epoch 2/20\n",
            "1563/1563 [==============================] - 32s 21ms/step - loss: 1.6607 - acc: 0.4028 - val_loss: 1.6096 - val_acc: 0.4284\n",
            "Epoch 3/20\n",
            "1563/1563 [==============================] - 32s 21ms/step - loss: 1.5722 - acc: 0.4333 - val_loss: 1.5388 - val_acc: 0.4491\n",
            "Epoch 4/20\n",
            "1563/1563 [==============================] - 32s 21ms/step - loss: 1.5112 - acc: 0.4587 - val_loss: 1.5715 - val_acc: 0.4352\n",
            "Epoch 5/20\n",
            "1563/1563 [==============================] - 32s 21ms/step - loss: 1.4719 - acc: 0.4772 - val_loss: 1.4401 - val_acc: 0.4807\n",
            "Epoch 6/20\n",
            "1563/1563 [==============================] - 32s 21ms/step - loss: 1.4422 - acc: 0.4933 - val_loss: 1.4458 - val_acc: 0.4833\n",
            "Epoch 7/20\n",
            "1563/1563 [==============================] - 32s 21ms/step - loss: 1.4242 - acc: 0.4976 - val_loss: 1.4208 - val_acc: 0.4953\n",
            "Epoch 8/20\n",
            "1563/1563 [==============================] - 32s 21ms/step - loss: 1.3886 - acc: 0.5115 - val_loss: 1.4004 - val_acc: 0.5034\n",
            "Epoch 9/20\n",
            "1563/1563 [==============================] - 32s 21ms/step - loss: 1.3788 - acc: 0.5159 - val_loss: 1.4185 - val_acc: 0.4970\n",
            "Epoch 10/20\n",
            "1563/1563 [==============================] - 32s 21ms/step - loss: 1.3631 - acc: 0.5183 - val_loss: 1.3692 - val_acc: 0.5113\n",
            "Epoch 11/20\n",
            "1563/1563 [==============================] - 32s 21ms/step - loss: 1.3418 - acc: 0.5289 - val_loss: 1.3834 - val_acc: 0.5107\n",
            "Epoch 12/20\n",
            "1563/1563 [==============================] - 32s 21ms/step - loss: 1.3113 - acc: 0.5405 - val_loss: 1.3588 - val_acc: 0.5134\n",
            "Epoch 13/20\n",
            "1563/1563 [==============================] - 32s 21ms/step - loss: 1.3158 - acc: 0.5390 - val_loss: 1.4028 - val_acc: 0.5068\n",
            "Epoch 14/20\n",
            "1563/1563 [==============================] - 32s 21ms/step - loss: 1.2965 - acc: 0.5457 - val_loss: 1.4201 - val_acc: 0.5040\n",
            "Epoch 15/20\n",
            "1563/1563 [==============================] - 32s 21ms/step - loss: 1.2852 - acc: 0.5538 - val_loss: 1.3426 - val_acc: 0.5263\n",
            "Epoch 16/20\n",
            "1563/1563 [==============================] - 32s 21ms/step - loss: 1.2677 - acc: 0.5556 - val_loss: 1.3294 - val_acc: 0.5352\n",
            "Epoch 17/20\n",
            "1563/1563 [==============================] - 32s 21ms/step - loss: 1.2563 - acc: 0.5614 - val_loss: 1.3318 - val_acc: 0.5299\n",
            "Epoch 18/20\n",
            "1563/1563 [==============================] - 32s 21ms/step - loss: 1.2443 - acc: 0.5634 - val_loss: 1.3159 - val_acc: 0.5325\n",
            "Epoch 19/20\n",
            "1563/1563 [==============================] - 32s 21ms/step - loss: 1.2382 - acc: 0.5639 - val_loss: 1.3166 - val_acc: 0.5374\n",
            "Epoch 20/20\n",
            "1563/1563 [==============================] - 32s 21ms/step - loss: 1.2331 - acc: 0.5706 - val_loss: 1.3267 - val_acc: 0.5313\n"
          ],
          "name": "stdout"
        }
      ]
    },
    {
      "cell_type": "code",
      "metadata": {
        "id": "fozmGG2Ljsf2"
      },
      "source": [
        "model.save('CNN_CIFAR.h5')"
      ],
      "execution_count": 24,
      "outputs": []
    },
    {
      "cell_type": "code",
      "metadata": {
        "id": "R0Y7LPlhkMy1"
      },
      "source": [
        "from keras.models import Sequential, load_model\n",
        "model = load_model('CNN_CIFAR.h5')"
      ],
      "execution_count": 25,
      "outputs": []
    },
    {
      "cell_type": "code",
      "metadata": {
        "colab": {
          "base_uri": "https://localhost:8080/",
          "height": 267
        },
        "id": "-MP15V6ikjWg",
        "outputId": "6088ad90-3c25-4539-fda7-4c929f1e605e"
      },
      "source": [
        "import matplotlib.pyplot as plt\n",
        "plt.plot(history.history['loss'])\n",
        "plt.plot(history.history['val_loss'])\n",
        "plt.show()"
      ],
      "execution_count": 28,
      "outputs": [
        {
          "output_type": "display_data",
          "data": {
            "image/png": "[encoded data removed]",
            "text/plain": [
              "<Figure size 432x288 with 1 Axes>"
            ]
          },
          "metadata": {
            "tags": [],
            "needs_background": "light"
          }
        }
      ]
    },
    {
      "cell_type": "code",
      "metadata": {
        "id": "AtANhXt3lDpi"
      },
      "source": [
        "predictions = model.predict(X_test)"
      ],
      "execution_count": 29,
      "outputs": []
    },
    {
      "cell_type": "code",
      "metadata": {
        "colab": {
          "base_uri": "https://localhost:8080/"
        },
        "id": "TuPxHooEla-e",
        "outputId": "7c6e4a62-243d-40b1-822d-8594c85144ac"
      },
      "source": [
        "cm = confusion_matrix(y_test, predictions)\n",
        "cm"
      ],
      "execution_count": 38,
      "outputs": [
        {
          "output_type": "execute_result",
          "data": {
            "text/plain": [
              "array([[459,  74, 130,  11,  27,   7,  15,  30, 189,  58],\n",
              "       [ 23, 700,  20,  12,   6,   3,  32,  14,  70, 120],\n",
              "       [ 75,  29, 480,  71,  87,  60,  58,  62,  46,  32],\n",
              "       [ 28,  48, 135, 269,  95, 137, 101,  69,  43,  75],\n",
              "       [ 27,  42, 156,  41, 397,  41, 112, 131,  33,  20],\n",
              "       [ 15,  27, 105, 178,  50, 371,  55, 125,  30,  44],\n",
              "       [ 13,  81,  77,  55,  43,  11, 593,  28,  30,  69],\n",
              "       [ 15,  37,  39,  50,  61,  53,  23, 625,  12,  85],\n",
              "       [ 60,  78,  31,  15,   8,   8,   4,   7, 740,  49],\n",
              "       [ 20, 150,  10,  26,   1,  12,  21,  32,  49, 679]])"
            ]
          },
          "metadata": {
            "tags": []
          },
          "execution_count": 38
        }
      ]
    },
    {
      "cell_type": "code",
      "metadata": {
        "colab": {
          "base_uri": "https://localhost:8080/"
        },
        "id": "IwfrGp7sliCe",
        "outputId": "e5181dd8-71fd-4859-a27b-e232ebbcf1f2"
      },
      "source": [
        "from sklearn.metrics import accuracy_score\n",
        "acc_score = accuracy_score(y_test, predictions)\n",
        "print('Accuracy Score = ', acc_score)"
      ],
      "execution_count": 39,
      "outputs": [
        {
          "output_type": "stream",
          "text": [
            "Accuracy Score =  0.5313\n"
          ],
          "name": "stdout"
        }
      ]
    }
  ]
}